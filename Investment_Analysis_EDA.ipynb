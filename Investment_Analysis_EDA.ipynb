{
 "cells": [
  {
   "cell_type": "code",
   "execution_count": 147,
   "metadata": {},
   "outputs": [],
   "source": [
    "import pandas as pd\n",
    "import numpy as np\n",
    "import matplotlib.pyplot as plt\n",
    "import re"
   ]
  },
  {
   "cell_type": "code",
   "execution_count": 148,
   "metadata": {},
   "outputs": [],
   "source": [
    "companies = pd.read_csv(\"companies.txt\",delimiter=\"\\t\",encoding = \"ISO-8859-1\")\n",
    "companies.permalink = companies.permalink.str.lower()\n",
    "companies.permalink = companies.permalink.map(lambda x:x.encode('utf-8').decode('ascii', 'ignore'))\n"
   ]
  },
  {
   "cell_type": "code",
   "execution_count": 149,
   "metadata": {},
   "outputs": [
    {
     "data": {
      "text/plain": [
       "114949"
      ]
     },
     "execution_count": 149,
     "metadata": {},
     "output_type": "execute_result"
    }
   ],
   "source": [
    "companies.permalink = companies.permalink.str.lower()\n",
    "rounds2 = pd.read_csv(\"rounds2.csv\",encoding = \"ISO-8859-1\")\n",
    "rounds2.company_permalink = rounds2.company_permalink.str.lower()\n",
    "rounds2.company_permalink = rounds2.company_permalink.map(lambda x:x.encode('utf-8').decode('ascii', 'ignore'))\n",
    "\n",
    "rounds2.shape[0]"
   ]
  },
  {
   "cell_type": "code",
   "execution_count": 150,
   "metadata": {},
   "outputs": [
    {
     "data": {
      "text/plain": [
       "66368"
      ]
     },
     "execution_count": 150,
     "metadata": {},
     "output_type": "execute_result"
    }
   ],
   "source": [
    "rounds2.company_permalink.nunique()"
   ]
  },
  {
   "cell_type": "code",
   "execution_count": 151,
   "metadata": {},
   "outputs": [
    {
     "data": {
      "text/plain": [
       "66368"
      ]
     },
     "execution_count": 151,
     "metadata": {},
     "output_type": "execute_result"
    }
   ],
   "source": [
    "companies.permalink.nunique()"
   ]
  },
  {
   "cell_type": "code",
   "execution_count": 152,
   "metadata": {},
   "outputs": [
    {
     "data": {
      "text/plain": [
       "Series([], Name: permalink, dtype: object)"
      ]
     },
     "execution_count": 152,
     "metadata": {},
     "output_type": "execute_result"
    }
   ],
   "source": [
    "companies[~companies.permalink.isin(rounds2.company_permalink)].permalink"
   ]
  },
  {
   "cell_type": "code",
   "execution_count": 153,
   "metadata": {},
   "outputs": [
    {
     "data": {
      "text/plain": [
       "Series([], Name: company_permalink, dtype: object)"
      ]
     },
     "execution_count": 153,
     "metadata": {},
     "output_type": "execute_result"
    }
   ],
   "source": [
    "rounds2[~rounds2.company_permalink.isin(companies.permalink)].company_permalink"
   ]
  },
  {
   "cell_type": "code",
   "execution_count": 154,
   "metadata": {},
   "outputs": [
    {
     "data": {
      "text/plain": [
       "114949"
      ]
     },
     "execution_count": 154,
     "metadata": {},
     "output_type": "execute_result"
    }
   ],
   "source": [
    "masterFrame = pd.merge(companies,rounds2,how='inner',left_on='permalink',right_on='company_permalink')\n",
    "masterFrame.shape[0]"
   ]
  },
  {
   "cell_type": "code",
   "execution_count": 155,
   "metadata": {},
   "outputs": [],
   "source": [
    "pd.options.display.float_format='{:20,.2f}'.format\n",
    "rounds2['funding_round_type']= rounds2['funding_round_type'].str.lower()\n",
    "rounds2_by_funding_round=rounds2.groupby('funding_round_type')\n",
    "rounds2_by_funding_round_mean = pd.DataFrame(rounds2_by_funding_round['raised_amount_usd'].mean())"
   ]
  },
  {
   "cell_type": "code",
   "execution_count": 156,
   "metadata": {},
   "outputs": [
    {
     "data": {
      "text/plain": [
       "raised_amount_usd          11,748,949.13\n",
       "Name: venture, dtype: float64"
      ]
     },
     "execution_count": 156,
     "metadata": {},
     "output_type": "execute_result"
    }
   ],
   "source": [
    "#Find investment for venture funding type\n",
    "venture_investment_amount = rounds2_by_funding_round_mean.loc['venture',]\n",
    "venture_investment_amount"
   ]
  },
  {
   "cell_type": "code",
   "execution_count": 157,
   "metadata": {},
   "outputs": [
    {
     "data": {
      "text/plain": [
       "raised_amount_usd             958,694.47\n",
       "Name: angel, dtype: float64"
      ]
     },
     "execution_count": 157,
     "metadata": {},
     "output_type": "execute_result"
    }
   ],
   "source": [
    "#Find investment for angel funding type\n",
    "angel_investment_amount = rounds2_by_funding_round_mean.loc['angel',]\n",
    "angel_investment_amount"
   ]
  },
  {
   "cell_type": "code",
   "execution_count": 158,
   "metadata": {},
   "outputs": [
    {
     "data": {
      "text/plain": [
       "raised_amount_usd             719,818.00\n",
       "Name: seed, dtype: float64"
      ]
     },
     "execution_count": 158,
     "metadata": {},
     "output_type": "execute_result"
    }
   ],
   "source": [
    "#Find investment for seed funding type\n",
    "seed_investment_amount = rounds2_by_funding_round_mean.loc['seed',]\n",
    "seed_investment_amount"
   ]
  },
  {
   "cell_type": "code",
   "execution_count": 159,
   "metadata": {},
   "outputs": [
    {
     "data": {
      "text/plain": [
       "raised_amount_usd          73,308,593.03\n",
       "Name: private_equity, dtype: float64"
      ]
     },
     "execution_count": 159,
     "metadata": {},
     "output_type": "execute_result"
    }
   ],
   "source": [
    "#Find investment for private equity funding type\n",
    "private_equity_investment_amount = rounds2_by_funding_round_mean.loc['private_equity',]\n",
    "private_equity_investment_amount"
   ]
  },
  {
   "cell_type": "code",
   "execution_count": 160,
   "metadata": {},
   "outputs": [
    {
     "data": {
      "text/plain": [
       "'venture'"
      ]
     },
     "execution_count": 160,
     "metadata": {},
     "output_type": "execute_result"
    }
   ],
   "source": [
    "#find fundting type whose amount is satisfying the criteria that Spark Funds wants to invest between 5 to 15 million USD per investment round, \n",
    "preferred_investment_type = rounds2_by_funding_round_mean[(rounds2_by_funding_round_mean['raised_amount_usd']>=5000000) & (rounds2_by_funding_round_mean['raised_amount_usd']<=15000000)].iloc[0]\n",
    "preferred_investment_type.name"
   ]
  },
  {
   "cell_type": "code",
   "execution_count": 161,
   "metadata": {},
   "outputs": [],
   "source": [
    "#For further analysis, filter the data so it only contains the chosen investment type\n",
    "masterFrame = masterFrame[masterFrame.funding_round_type==preferred_investment_type.name]\n",
    "rounds2_with_preferrable_funding_type=rounds2[rounds2.funding_round_type==preferred_investment_type.name]\n"
   ]
  },
  {
   "cell_type": "code",
   "execution_count": 162,
   "metadata": {},
   "outputs": [],
   "source": [
    "masterFrame_by_country = masterFrame.groupby('country_code')\n"
   ]
  },
  {
   "cell_type": "code",
   "execution_count": 163,
   "metadata": {},
   "outputs": [
    {
     "data": {
      "text/html": [
       "<div>\n",
       "<style scoped>\n",
       "    .dataframe tbody tr th:only-of-type {\n",
       "        vertical-align: middle;\n",
       "    }\n",
       "\n",
       "    .dataframe tbody tr th {\n",
       "        vertical-align: top;\n",
       "    }\n",
       "\n",
       "    .dataframe thead th {\n",
       "        text-align: right;\n",
       "    }\n",
       "</style>\n",
       "<table border=\"1\" class=\"dataframe\">\n",
       "  <thead>\n",
       "    <tr style=\"text-align: right;\">\n",
       "      <th></th>\n",
       "      <th>raised_amount_usd</th>\n",
       "    </tr>\n",
       "    <tr>\n",
       "      <th>country_code</th>\n",
       "      <th></th>\n",
       "    </tr>\n",
       "  </thead>\n",
       "  <tbody>\n",
       "    <tr>\n",
       "      <th>USA</th>\n",
       "      <td>422,510,842,796.00</td>\n",
       "    </tr>\n",
       "    <tr>\n",
       "      <th>CHN</th>\n",
       "      <td>39,835,418,773.00</td>\n",
       "    </tr>\n",
       "    <tr>\n",
       "      <th>GBR</th>\n",
       "      <td>20,245,627,416.00</td>\n",
       "    </tr>\n",
       "    <tr>\n",
       "      <th>IND</th>\n",
       "      <td>14,391,858,718.00</td>\n",
       "    </tr>\n",
       "    <tr>\n",
       "      <th>CAN</th>\n",
       "      <td>9,583,332,317.00</td>\n",
       "    </tr>\n",
       "    <tr>\n",
       "      <th>FRA</th>\n",
       "      <td>7,259,536,732.00</td>\n",
       "    </tr>\n",
       "    <tr>\n",
       "      <th>ISR</th>\n",
       "      <td>6,907,514,579.00</td>\n",
       "    </tr>\n",
       "    <tr>\n",
       "      <th>DEU</th>\n",
       "      <td>6,346,959,822.00</td>\n",
       "    </tr>\n",
       "    <tr>\n",
       "      <th>JPN</th>\n",
       "      <td>3,363,676,611.00</td>\n",
       "    </tr>\n",
       "  </tbody>\n",
       "</table>\n",
       "</div>"
      ],
      "text/plain": [
       "                raised_amount_usd\n",
       "country_code                     \n",
       "USA            422,510,842,796.00\n",
       "CHN             39,835,418,773.00\n",
       "GBR             20,245,627,416.00\n",
       "IND             14,391,858,718.00\n",
       "CAN              9,583,332,317.00\n",
       "FRA              7,259,536,732.00\n",
       "ISR              6,907,514,579.00\n",
       "DEU              6,346,959,822.00\n",
       "JPN              3,363,676,611.00"
      ]
     },
     "execution_count": 163,
     "metadata": {},
     "output_type": "execute_result"
    }
   ],
   "source": [
    "#Create a data frame with the top nine countries based on the total investment amount each country has received\n",
    "top9 = pd.DataFrame(masterFrame_by_country.raised_amount_usd.sum()).sort_values(['raised_amount_usd'],ascending=[False]).iloc[:9,]   \n",
    "top9"
   ]
  },
  {
   "cell_type": "code",
   "execution_count": 164,
   "metadata": {},
   "outputs": [],
   "source": [
    "#read sector mapping details as a dataframe\n",
    "#drop na values\n",
    "sector_mapping = pd.read_csv(\"mapping.csv\")\n",
    "sector_mapping =  sector_mapping.dropna(subset=['category_list'])\n",
    "sector_mapping.category_list =  sector_mapping.category_list.map(lambda x:x.replace(\"0\",\"n\"))\n",
    "sector_mapping.category_list = sector_mapping.category_list.str.lower()"
   ]
  },
  {
   "cell_type": "code",
   "execution_count": 165,
   "metadata": {},
   "outputs": [],
   "source": [
    "#segregate category list per company\n",
    "#extract the primary sector of each category list from the category_list column\n",
    "masterFrame['primary_sector'] = masterFrame['category_list'].astype(\"str\").apply(lambda x:x.split(\"|\")[0])\n",
    "masterFrame.primary_sector = masterFrame.primary_sector.str.lower()"
   ]
  },
  {
   "cell_type": "code",
   "execution_count": 166,
   "metadata": {},
   "outputs": [],
   "source": [
    "#function to check whether the primary sector value is 1\n",
    "def get_main_sector(row):\n",
    "    for counter in range(1,10):\n",
    "        if row.iloc[counter]==1:\n",
    "            #Value of 1 means its the primary sector we are looking for\n",
    "            break\n",
    "    #return main_sector value from the row_index\n",
    "    return row.index[counter]"
   ]
  },
  {
   "cell_type": "code",
   "execution_count": 167,
   "metadata": {},
   "outputs": [],
   "source": [
    "#add a new column named 'main_sector' in the sector_mapping data frame  \n",
    "sector_mapping['main_sector'] = sector_mapping.apply(get_main_sector, axis=1)\n"
   ]
  },
  {
   "cell_type": "code",
   "execution_count": 168,
   "metadata": {},
   "outputs": [],
   "source": [
    "#merge master data frame with sectors data along with master_sector details\n",
    "masterFrame = pd.merge(sector_mapping,masterFrame,how = 'inner', left_on='category_list',right_on='primary_sector')\n"
   ]
  },
  {
   "cell_type": "code",
   "execution_count": 169,
   "metadata": {},
   "outputs": [],
   "source": [
    "#create three separate data frames for each of the three countries containing the observations \n",
    "#of funding type FT falling within the 5-15 million USD range\n",
    "\n",
    "masterFrame_usa = masterFrame[masterFrame.country_code=='USA'].dropna(subset=['raised_amount_usd'])\n",
    "masterFrame_gbr = masterFrame[masterFrame.country_code=='GBR'].dropna(subset=['raised_amount_usd'])\n",
    "masterFrame_ind = masterFrame[masterFrame.country_code=='IND'].dropna(subset=['raised_amount_usd'])\n"
   ]
  },
  {
   "cell_type": "code",
   "execution_count": 170,
   "metadata": {},
   "outputs": [
    {
     "name": "stdout",
     "output_type": "stream",
     "text": [
      "USA = 33522 GBR = 1916 IND = 745\n"
     ]
    }
   ],
   "source": [
    "#find total number of Investments (count) per country\n",
    "total_number_of_investments_usa = masterFrame_usa.shape[0]\n",
    "total_number_of_investments_gbr = masterFrame_gbr.shape[0]\n",
    "total_number_of_investments_ind = masterFrame_ind.shape[0]\n",
    "\n",
    "\n",
    "print(\"USA = \"+str(total_number_of_investments_usa) +  \" GBR = \"+ str(total_number_of_investments_gbr) +\" IND = \"  + str(total_number_of_investments_ind))"
   ]
  },
  {
   "cell_type": "code",
   "execution_count": 171,
   "metadata": {},
   "outputs": [
    {
     "name": "stdout",
     "output_type": "stream",
     "text": [
      "USA = 392212193021.0 GBR = 18924390319.0 IND = 13537981235.0\n"
     ]
    }
   ],
   "source": [
    "total_amount_investments_usa = masterFrame_usa.raised_amount_usd.sum()\n",
    "total_amount_investments_gbr = masterFrame_gbr.raised_amount_usd.sum()\n",
    "total_amount_investuments_ind = masterFrame_ind.raised_amount_usd.sum()\n",
    "print(\"USA = \"+str(total_amount_investments_usa) +  \" GBR = \"+ str(total_amount_investments_gbr) +\" IND = \"  + str(total_amount_investments_ind))\n"
   ]
  },
  {
   "cell_type": "code",
   "execution_count": 172,
   "metadata": {},
   "outputs": [],
   "source": [
    "#compute top 3 sectors by investment count per country\n",
    "top3_sectors_usa = masterFrame_usa.groupby(\"main_sector\").agg({'primary_sector':'count','raised_amount_usd':'sum'}).sort_values('primary_sector',ascending=False).iloc[:3,]\n",
    "top3_sectors_gbr = masterFrame_gbr.groupby(\"main_sector\").agg({'primary_sector':'count','raised_amount_usd':'sum'}).sort_values('primary_sector',ascending=False).iloc[:3,]\n",
    "top3_sectors_ind = masterFrame_ind.groupby(\"main_sector\").agg({'primary_sector':'count','raised_amount_usd':'sum'}).sort_values('primary_sector',ascending=False).iloc[:3,]\n",
    "top3_sectors_usa['main_sector_column'] = top3_sectors_usa.index\n",
    "top3_sectors_gbr['main_sector_column'] = top3_sectors_gbr.index\n",
    "top3_sectors_ind['main_sector_column'] = top3_sectors_ind.index"
   ]
  },
  {
   "cell_type": "code",
   "execution_count": 173,
   "metadata": {},
   "outputs": [],
   "source": [
    "#figure out company that received highest investment by top sector count-wise\n",
    "top_company_by_investment_usa = pd.DataFrame(masterFrame_usa[masterFrame_usa.main_sector==top3_sectors_usa.iloc[0].name].groupby('company_permalink').raised_amount_usd.sum()).sort_values('raised_amount_usd',ascending=False).iloc[0].name\n",
    "top_company_by_investment_gbr = pd.DataFrame(masterFrame_gbr[masterFrame_gbr.main_sector==top3_sectors_gbr.iloc[0].name].groupby('company_permalink').raised_amount_usd.sum()).sort_values('raised_amount_usd',ascending=False).iloc[0].name\n",
    "top_company_by_investment_ind = pd.DataFrame(masterFrame_ind[masterFrame_ind.main_sector==top3_sectors_ind.iloc[0].name].groupby('company_permalink').raised_amount_usd.sum()).sort_values('raised_amount_usd',ascending=False).iloc[0].name\n"
   ]
  },
  {
   "cell_type": "code",
   "execution_count": 174,
   "metadata": {},
   "outputs": [],
   "source": [
    "#figure out company that received highest investment by second top sector count-wise\n",
    "second_top_company_by_investment_usa = pd.DataFrame(masterFrame_usa[masterFrame_usa.main_sector==top3_sectors_usa.iloc[1].name].groupby('company_permalink').raised_amount_usd.sum()).sort_values('raised_amount_usd',ascending=False).iloc[0].name\n",
    "second_top_company_by_investment_gbr = pd.DataFrame(masterFrame_gbr[masterFrame_gbr.main_sector==top3_sectors_gbr.iloc[1].name].groupby('company_permalink').raised_amount_usd.sum()).sort_values('raised_amount_usd',ascending=False).iloc[0].name\n",
    "second_top_company_by_investment_ind = pd.DataFrame(masterFrame_ind[masterFrame_ind.main_sector==top3_sectors_ind.iloc[1].name].groupby('company_permalink').raised_amount_usd.sum()).sort_values('raised_amount_usd',ascending=False).iloc[0].name\n"
   ]
  },
  {
   "cell_type": "code",
   "execution_count": 175,
   "metadata": {},
   "outputs": [],
   "source": [
    "#Create three separate data frames D1, D2 and D3 for each of the three countries containing the observations of funding type FT falling within the 5-15 million USD range. The three data frames should contain:\n",
    "#All the columns of the master_frame along with the primary sector and the main sector\n",
    "#The total number (or count) of investments for each main sector in a separate column\n",
    "#The total amount invested in each main sector in a separate column\n",
    "\n",
    "D1 = pd.merge(masterFrame_usa,top3_sectors_usa,how=\"inner\",left_on=\"main_sector\",right_on=\"main_sector_column\")\n",
    "D2 = pd.merge(masterFrame_gbr,top3_sectors_gbr,how=\"inner\",left_on=\"main_sector\",right_on=\"main_sector_column\")\n",
    "D3 = pd.merge(masterFrame_ind,top3_sectors_ind,how=\"inner\",left_on=\"main_sector\",right_on=\"main_sector_column\")"
   ]
  },
  {
   "cell_type": "code",
   "execution_count": 176,
   "metadata": {},
   "outputs": [],
   "source": [
    "masterFrame_all_data = pd.merge(rounds2,companies,how='inner',left_on='company_permalink',right_on='permalink')\n",
    "masterFrame_all_data = masterFrame_all_data.dropna(subset=[\"raised_amount_usd\"])"
   ]
  },
  {
   "cell_type": "code",
   "execution_count": 177,
   "metadata": {},
   "outputs": [],
   "source": [
    "masterFrame_inv_sum_against_count_by_funding_type = masterFrame_all_data[masterFrame_all_data.funding_round_type.str.lower().isin([\"seed\",\"venture\",\"private_equity\"])].groupby(\"funding_round_type\").agg({'raised_amount_usd':['count','sum']})"
   ]
  },
  {
   "cell_type": "code",
   "execution_count": 178,
   "metadata": {},
   "outputs": [
    {
     "data": {
      "text/html": [
       "<div>\n",
       "<style scoped>\n",
       "    .dataframe tbody tr th:only-of-type {\n",
       "        vertical-align: middle;\n",
       "    }\n",
       "\n",
       "    .dataframe tbody tr th {\n",
       "        vertical-align: top;\n",
       "    }\n",
       "\n",
       "    .dataframe thead th {\n",
       "        text-align: right;\n",
       "    }\n",
       "</style>\n",
       "<table border=\"1\" class=\"dataframe\">\n",
       "  <thead>\n",
       "    <tr style=\"text-align: right;\">\n",
       "      <th></th>\n",
       "      <th>raised_amount_usd_count</th>\n",
       "      <th>raised_amount_usd_sum</th>\n",
       "      <th>funding_round_type</th>\n",
       "    </tr>\n",
       "    <tr>\n",
       "      <th>funding_round_type</th>\n",
       "      <th></th>\n",
       "      <th></th>\n",
       "      <th></th>\n",
       "    </tr>\n",
       "  </thead>\n",
       "  <tbody>\n",
       "    <tr>\n",
       "      <th>private_equity</th>\n",
       "      <td>1936</td>\n",
       "      <td>141,925,436,105.00</td>\n",
       "      <td>private_equity</td>\n",
       "    </tr>\n",
       "    <tr>\n",
       "      <th>seed</th>\n",
       "      <td>23603</td>\n",
       "      <td>16,989,864,181.00</td>\n",
       "      <td>seed</td>\n",
       "    </tr>\n",
       "    <tr>\n",
       "      <th>venture</th>\n",
       "      <td>50228</td>\n",
       "      <td>590,126,216,876.00</td>\n",
       "      <td>venture</td>\n",
       "    </tr>\n",
       "  </tbody>\n",
       "</table>\n",
       "</div>"
      ],
      "text/plain": [
       "                    raised_amount_usd_count  raised_amount_usd_sum  \\\n",
       "funding_round_type                                                   \n",
       "private_equity                         1936     141,925,436,105.00   \n",
       "seed                                  23603      16,989,864,181.00   \n",
       "venture                               50228     590,126,216,876.00   \n",
       "\n",
       "                   funding_round_type  \n",
       "funding_round_type                     \n",
       "private_equity         private_equity  \n",
       "seed                             seed  \n",
       "venture                       venture  "
      ]
     },
     "execution_count": 178,
     "metadata": {},
     "output_type": "execute_result"
    }
   ],
   "source": [
    "masterFrame_inv_sum_against_count_by_funding_type.columns = masterFrame_inv_sum_against_count_by_funding_type.columns.map('_'.join)\n",
    "masterFrame_inv_sum_against_count_by_funding_type\n",
    "masterFrame_inv_sum_against_count_by_funding_type['funding_round_type'] = masterFrame_inv_sum_against_count_by_funding_type.index\n",
    "masterFrame_inv_sum_against_count_by_funding_type"
   ]
  },
  {
   "cell_type": "code",
   "execution_count": 179,
   "metadata": {},
   "outputs": [],
   "source": [
    "masterFrame_inv_sum_against_count_by_funding_type['fraction'] = masterFrame_inv_sum_against_count_by_funding_type.raised_amount_usd_sum/masterFrame_inv_sum_against_count_by_funding_type.raised_amount_usd_count"
   ]
  },
  {
   "cell_type": "code",
   "execution_count": 180,
   "metadata": {},
   "outputs": [],
   "source": [
    "masterFrame_inv_sum_against_count_by_funding_type['funding_round_type'] = masterFrame_inv_sum_against_count_by_funding_type.index\n"
   ]
  },
  {
   "cell_type": "code",
   "execution_count": 181,
   "metadata": {},
   "outputs": [
    {
     "data": {
      "text/plain": [
       "<matplotlib.axes._subplots.AxesSubplot at 0x7f7e102b4278>"
      ]
     },
     "execution_count": 181,
     "metadata": {},
     "output_type": "execute_result"
    },
    {
     "data": {
      "image/png": "[encoded data removed]",
      "text/plain": [
       "<Figure size 432x288 with 1 Axes>"
      ]
     },
     "metadata": {
      "needs_background": "light"
     },
     "output_type": "display_data"
    }
   ],
   "source": [
    "#plot showing the fraction of total investments (globally) in venture, seed, and private equity, and the average amount of investment in each funding type\n",
    "masterFrame_inv_sum_against_count_by_funding_type.plot.bar(x=\"funding_round_type\",y=\"fraction\")\n"
   ]
  },
  {
   "cell_type": "code",
   "execution_count": 182,
   "metadata": {},
   "outputs": [
    {
     "data": {
      "text/plain": [
       "<matplotlib.axes._subplots.AxesSubplot at 0x7f7e0cd50a58>"
      ]
     },
     "execution_count": 182,
     "metadata": {},
     "output_type": "execute_result"
    },
    {
     "data": {
      "image/png": "[encoded data removed]",
      "text/plain": [
       "<Figure size 432x288 with 1 Axes>"
      ]
     },
     "metadata": {
      "needs_background": "light"
     },
     "output_type": "display_data"
    }
   ],
   "source": [
    "#plot showing the top 9 countries against the total amount of investments of funding type FT\n",
    "top9['country'] = top9.index\n",
    "top9.plot.bar(x=\"country\",y=\"raised_amount_usd\")"
   ]
  },
  {
   "cell_type": "code",
   "execution_count": 183,
   "metadata": {},
   "outputs": [
    {
     "data": {
      "text/html": [
       "<div>\n",
       "<style scoped>\n",
       "    .dataframe tbody tr th:only-of-type {\n",
       "        vertical-align: middle;\n",
       "    }\n",
       "\n",
       "    .dataframe tbody tr th {\n",
       "        vertical-align: top;\n",
       "    }\n",
       "\n",
       "    .dataframe thead th {\n",
       "        text-align: right;\n",
       "    }\n",
       "</style>\n",
       "<table border=\"1\" class=\"dataframe\">\n",
       "  <thead>\n",
       "    <tr style=\"text-align: right;\">\n",
       "      <th></th>\n",
       "      <th>raised_amount_usd</th>\n",
       "      <th>country</th>\n",
       "    </tr>\n",
       "    <tr>\n",
       "      <th>country_code</th>\n",
       "      <th></th>\n",
       "      <th></th>\n",
       "    </tr>\n",
       "  </thead>\n",
       "  <tbody>\n",
       "    <tr>\n",
       "      <th>USA</th>\n",
       "      <td>422,510,842,796.00</td>\n",
       "      <td>USA</td>\n",
       "    </tr>\n",
       "    <tr>\n",
       "      <th>CHN</th>\n",
       "      <td>39,835,418,773.00</td>\n",
       "      <td>CHN</td>\n",
       "    </tr>\n",
       "    <tr>\n",
       "      <th>GBR</th>\n",
       "      <td>20,245,627,416.00</td>\n",
       "      <td>GBR</td>\n",
       "    </tr>\n",
       "    <tr>\n",
       "      <th>IND</th>\n",
       "      <td>14,391,858,718.00</td>\n",
       "      <td>IND</td>\n",
       "    </tr>\n",
       "    <tr>\n",
       "      <th>CAN</th>\n",
       "      <td>9,583,332,317.00</td>\n",
       "      <td>CAN</td>\n",
       "    </tr>\n",
       "    <tr>\n",
       "      <th>FRA</th>\n",
       "      <td>7,259,536,732.00</td>\n",
       "      <td>FRA</td>\n",
       "    </tr>\n",
       "    <tr>\n",
       "      <th>ISR</th>\n",
       "      <td>6,907,514,579.00</td>\n",
       "      <td>ISR</td>\n",
       "    </tr>\n",
       "    <tr>\n",
       "      <th>DEU</th>\n",
       "      <td>6,346,959,822.00</td>\n",
       "      <td>DEU</td>\n",
       "    </tr>\n",
       "    <tr>\n",
       "      <th>JPN</th>\n",
       "      <td>3,363,676,611.00</td>\n",
       "      <td>JPN</td>\n",
       "    </tr>\n",
       "  </tbody>\n",
       "</table>\n",
       "</div>"
      ],
      "text/plain": [
       "                raised_amount_usd country\n",
       "country_code                             \n",
       "USA            422,510,842,796.00     USA\n",
       "CHN             39,835,418,773.00     CHN\n",
       "GBR             20,245,627,416.00     GBR\n",
       "IND             14,391,858,718.00     IND\n",
       "CAN              9,583,332,317.00     CAN\n",
       "FRA              7,259,536,732.00     FRA\n",
       "ISR              6,907,514,579.00     ISR\n",
       "DEU              6,346,959,822.00     DEU\n",
       "JPN              3,363,676,611.00     JPN"
      ]
     },
     "execution_count": 183,
     "metadata": {},
     "output_type": "execute_result"
    }
   ],
   "source": [
    "top9"
   ]
  },
  {
   "cell_type": "code",
   "execution_count": 184,
   "metadata": {},
   "outputs": [],
   "source": [
    "top3_sectors_usa[\"country\"]=\"USA\"\n",
    "top3_sectors_gbr[\"country\"]=\"GBR\"\n",
    "top3_sectors_ind[\"country\"]=\"IND\"\n",
    "\n"
   ]
  },
  {
   "cell_type": "code",
   "execution_count": 185,
   "metadata": {},
   "outputs": [],
   "source": [
    "frames1 = [top3_sectors_usa.iloc[0:1], top3_sectors_gbr.iloc[0:1],top3_sectors_ind.iloc[0:1]]\n",
    "main_sector_by_country = pd.concat(frames1)"
   ]
  },
  {
   "cell_type": "code",
   "execution_count": 186,
   "metadata": {},
   "outputs": [],
   "source": [
    "frames2 = [top3_sectors_usa.iloc[1:2], top3_sectors_gbr.iloc[1:2],top3_sectors_ind.iloc[1:2]]\n",
    "second_main_sector_by_country = pd.concat(frames2)"
   ]
  },
  {
   "cell_type": "code",
   "execution_count": 187,
   "metadata": {},
   "outputs": [],
   "source": [
    "frames3 = [top3_sectors_usa.iloc[2:3], top3_sectors_gbr.iloc[2:3],top3_sectors_ind.iloc[2:3]]\n",
    "third_main_sector_by_country = pd.concat(frames3)"
   ]
  },
  {
   "cell_type": "code",
   "execution_count": 188,
   "metadata": {},
   "outputs": [
    {
     "data": {
      "text/plain": [
       "<BarContainer object of 3 artists>"
      ]
     },
     "execution_count": 188,
     "metadata": {},
     "output_type": "execute_result"
    },
    {
     "data": {
      "image/png": "[encoded data removed]",
      "text/plain": [
       "<Figure size 432x288 with 3 Axes>"
      ]
     },
     "metadata": {
      "needs_background": "light"
     },
     "output_type": "display_data"
    }
   ],
   "source": [
    "#A plot showing the number of investments in the top 3 sectors of the top 3 countries on one chart\n",
    "\n",
    "plt.subplot(131)\n",
    "plt.bar(main_sector_by_country.country,main_sector_by_country.raised_amount_usd)\n",
    "plt.subplot(132)\n",
    "plt.bar(second_main_sector_by_country.country,second_main_sector_by_country.raised_amount_usd)\n",
    "plt.subplot(133)\n",
    "plt.bar(third_main_sector_by_country.country,third_main_sector_by_country.raised_amount_usd)"
   ]
  },
  {
   "cell_type": "code",
   "execution_count": null,
   "metadata": {},
   "outputs": [],
   "source": []
  },
  {
   "cell_type": "code",
   "execution_count": null,
   "metadata": {},
   "outputs": [],
   "source": []
  }
 ],
 "metadata": {
  "kernelspec": {
   "display_name": "Python 3",
   "language": "python",
   "name": "python3"
  },
  "language_info": {
   "codemirror_mode": {
    "name": "ipython",
    "version": 3
   },
   "file_extension": ".py",
   "mimetype": "text/x-python",
   "name": "python",
   "nbconvert_exporter": "python",
   "pygments_lexer": "ipython3",
   "version": "3.7.1"
  }
 },
 "nbformat": 4,
 "nbformat_minor": 2
}

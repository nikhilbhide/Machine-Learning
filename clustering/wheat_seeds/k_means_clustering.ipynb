{
  "nbformat": 4,
  "nbformat_minor": 0,
  "metadata": {
    "colab": {
      "name": "k_means_clustering.ipynb",
      "provenance": [],
      "collapsed_sections": [],
      "include_colab_link": true
    },
    "kernelspec": {
      "name": "python3",
      "display_name": "Python 3"
    }
  },
  "cells": [
    {
      "cell_type": "markdown",
      "metadata": {
        "id": "view-in-github",
        "colab_type": "text"
      },
      "source": [
        "<a href=\"https://colab.research.google.com/github/nikhilbhide/Machine-Learning/blob/master/clustering/wheat_seeds/k_means_clustering.ipynb\" target=\"_parent\"><img src=\"https://colab.research.google.com/assets/colab-badge.svg\" alt=\"Open In Colab\"/></a>"
      ]
    },
    {
      "cell_type": "markdown",
      "metadata": {
        "id": "i_paGd_yLbgH"
      },
      "source": [
        "# K-Means Clustering"
      ]
    },
    {
      "cell_type": "markdown",
      "metadata": {
        "id": "846LX201leOA"
      },
      "source": [
        "# Analyze seeds data and perform segmentation on wheat variety\n",
        "\n",
        "### https://archive.ics.uci.edu/ml/datasets/seeds# ###\n",
        "\n",
        "\n",
        "## Introduction\n",
        "Measurements of geometrical properties of kernels belonging to three different varieties of wheat. A soft X-ray technique and GRAINS package were used to construct all seven, real-valued attributes.\n",
        "\n",
        "Problem Statement\n",
        "The examined group comprised kernels belonging to three different varieties of wheat: Kama, Rosa and Canadian, 70 elements each, randomly selected for the experiment. High quality visualization of the internal kernel structure was detected using a soft X-ray technique. It is non-destructive and considerably cheaper than other more sophisticated imaging techniques like scanning microscopy or laser technology. The images were recorded on 13x18 cm X-ray KODAK plates. Studies were conducted using combine harvested wheat grain originating from experimental fields, explored at the Institute of Agrophysics of the Polish Academy of Sciences in Lublin. Use supervised model to perform clustering of the varieties of wheat.\n",
        "\n",
        "The dataset is made up of seven geometric parameters of wheat kernels and associated variety.\n",
        "\n",
        "1. area A,\n",
        "2. perimeter P,\n",
        "3. compactness C = 4*pi*A/P^2,\n",
        "4. length of kernel,\n",
        "5. width of kernel,\n",
        "6. asymmetry coefficient\n",
        "7. length of kernel groove.\n",
        "8. variety of wheat\n",
        "\n",
        "\n"
      ]
    },
    {
      "cell_type": "markdown",
      "metadata": {
        "id": "--fu8l2DmSsn"
      },
      "source": [
        "## Step 1: Loading the data and basic peripheries"
      ]
    },
    {
      "cell_type": "markdown",
      "metadata": {
        "id": "nAuqPwTnLipr"
      },
      "source": [
        "#### Importing the libraries"
      ]
    },
    {
      "cell_type": "code",
      "metadata": {
        "id": "yUXGcC4KLmcL"
      },
      "source": [
        "import numpy as np\n",
        "import matplotlib.pyplot as plt\n",
        "import pandas as pd\n",
        "import seaborn as sns"
      ],
      "execution_count": 4,
      "outputs": []
    },
    {
      "cell_type": "code",
      "metadata": {
        "id": "9RlmPzZGLtGi"
      },
      "source": [
        "# Load the dataset\n",
        "df = pd.read_csv('seeds_dataset.txt', delim_whitespace=True,names=['area','perimeter','compactness','kernel_length','kernel_width','assymetry_coff','kernel_grove_length','variety'])\n"
      ],
      "execution_count": 30,
      "outputs": []
    },
    {
      "cell_type": "markdown",
      "metadata": {
        "id": "7rWK9aiAmn3i"
      },
      "source": [
        "## Step 2: Exploratory data analysis *EDA* - Data cleaning and exploration\n",
        "### a. Cleaning the data"
      ]
    },
    {
      "cell_type": "code",
      "metadata": {
        "colab": {
          "base_uri": "https://localhost:8080/"
        },
        "id": "b9qN8hSMqqY-",
        "outputId": "3d74330d-66d4-4eba-ff87-cb2b12156c76"
      },
      "source": [
        "# Find out the shape the dataset\n",
        "# There are 210 rows with 8 columns\n",
        "df.shape"
      ],
      "execution_count": 31,
      "outputs": [
        {
          "output_type": "execute_result",
          "data": {
            "text/plain": [
              "(210, 8)"
            ]
          },
          "metadata": {
            "tags": []
          },
          "execution_count": 31
        }
      ]
    },
    {
      "cell_type": "code",
      "metadata": {
        "colab": {
          "base_uri": "https://localhost:8080/"
        },
        "id": "1Eaty6-btZLW",
        "outputId": "401b5e5a-7dad-40fb-ec4a-dbaaf036ad7f"
      },
      "source": [
        "# We do not have any incomplete data\n",
        "df.isnull().sum()"
      ],
      "execution_count": 32,
      "outputs": [
        {
          "output_type": "execute_result",
          "data": {
            "text/plain": [
              "area                   0\n",
              "perimeter              0\n",
              "compactness            0\n",
              "kernel_length          0\n",
              "kernel_width           0\n",
              "assymetry_coff         0\n",
              "kernel_grove_length    0\n",
              "variety                0\n",
              "dtype: int64"
            ]
          },
          "metadata": {
            "tags": []
          },
          "execution_count": 32
        }
      ]
    },
    {
      "cell_type": "markdown",
      "metadata": {
        "id": "EYLB-Dv0m2dJ"
      },
      "source": [
        "### b. Visualizing the data\n",
        "We have dataset with all numeric and continuous features."
      ]
    },
    {
      "cell_type": "code",
      "metadata": {
        "colab": {
          "base_uri": "https://localhost:8080/",
          "height": 203
        },
        "id": "gB2oDyRfquG0",
        "outputId": "9e8b592a-7692-45f3-e5f5-d0c37a64ae3b"
      },
      "source": [
        "# Take a glance at data\n",
        "df.head()"
      ],
      "execution_count": 33,
      "outputs": [
        {
          "output_type": "execute_result",
          "data": {
            "text/html": [
              "<div>\n",
              "<style scoped>\n",
              "    .dataframe tbody tr th:only-of-type {\n",
              "        vertical-align: middle;\n",
              "    }\n",
              "\n",
              "    .dataframe tbody tr th {\n",
              "        vertical-align: top;\n",
              "    }\n",
              "\n",
              "    .dataframe thead th {\n",
              "        text-align: right;\n",
              "    }\n",
              "</style>\n",
              "<table border=\"1\" class=\"dataframe\">\n",
              "  <thead>\n",
              "    <tr style=\"text-align: right;\">\n",
              "      <th></th>\n",
              "      <th>area</th>\n",
              "      <th>perimeter</th>\n",
              "      <th>compactness</th>\n",
              "      <th>kernel_length</th>\n",
              "      <th>kernel_width</th>\n",
              "      <th>assymetry_coff</th>\n",
              "      <th>kernel_grove_length</th>\n",
              "      <th>variety</th>\n",
              "    </tr>\n",
              "  </thead>\n",
              "  <tbody>\n",
              "    <tr>\n",
              "      <th>0</th>\n",
              "      <td>15.26</td>\n",
              "      <td>14.84</td>\n",
              "      <td>0.8710</td>\n",
              "      <td>5.763</td>\n",
              "      <td>3.312</td>\n",
              "      <td>2.221</td>\n",
              "      <td>5.220</td>\n",
              "      <td>1</td>\n",
              "    </tr>\n",
              "    <tr>\n",
              "      <th>1</th>\n",
              "      <td>14.88</td>\n",
              "      <td>14.57</td>\n",
              "      <td>0.8811</td>\n",
              "      <td>5.554</td>\n",
              "      <td>3.333</td>\n",
              "      <td>1.018</td>\n",
              "      <td>4.956</td>\n",
              "      <td>1</td>\n",
              "    </tr>\n",
              "    <tr>\n",
              "      <th>2</th>\n",
              "      <td>14.29</td>\n",
              "      <td>14.09</td>\n",
              "      <td>0.9050</td>\n",
              "      <td>5.291</td>\n",
              "      <td>3.337</td>\n",
              "      <td>2.699</td>\n",
              "      <td>4.825</td>\n",
              "      <td>1</td>\n",
              "    </tr>\n",
              "    <tr>\n",
              "      <th>3</th>\n",
              "      <td>13.84</td>\n",
              "      <td>13.94</td>\n",
              "      <td>0.8955</td>\n",
              "      <td>5.324</td>\n",
              "      <td>3.379</td>\n",
              "      <td>2.259</td>\n",
              "      <td>4.805</td>\n",
              "      <td>1</td>\n",
              "    </tr>\n",
              "    <tr>\n",
              "      <th>4</th>\n",
              "      <td>16.14</td>\n",
              "      <td>14.99</td>\n",
              "      <td>0.9034</td>\n",
              "      <td>5.658</td>\n",
              "      <td>3.562</td>\n",
              "      <td>1.355</td>\n",
              "      <td>5.175</td>\n",
              "      <td>1</td>\n",
              "    </tr>\n",
              "  </tbody>\n",
              "</table>\n",
              "</div>"
            ],
            "text/plain": [
              "    area  perimeter  compactness  ...  assymetry_coff  kernel_grove_length  variety\n",
              "0  15.26      14.84       0.8710  ...           2.221                5.220        1\n",
              "1  14.88      14.57       0.8811  ...           1.018                4.956        1\n",
              "2  14.29      14.09       0.9050  ...           2.699                4.825        1\n",
              "3  13.84      13.94       0.8955  ...           2.259                4.805        1\n",
              "4  16.14      14.99       0.9034  ...           1.355                5.175        1\n",
              "\n",
              "[5 rows x 8 columns]"
            ]
          },
          "metadata": {
            "tags": []
          },
          "execution_count": 33
        }
      ]
    },
    {
      "cell_type": "code",
      "metadata": {
        "colab": {
          "base_uri": "https://localhost:8080/",
          "height": 295
        },
        "id": "1IPsrbkzqwWE",
        "outputId": "34abea4c-1a18-4747-9207-351d2d21999f"
      },
      "source": [
        "# Meticulously inspect the numeric features\n",
        "df.describe()"
      ],
      "execution_count": 34,
      "outputs": [
        {
          "output_type": "execute_result",
          "data": {
            "text/html": [
              "<div>\n",
              "<style scoped>\n",
              "    .dataframe tbody tr th:only-of-type {\n",
              "        vertical-align: middle;\n",
              "    }\n",
              "\n",
              "    .dataframe tbody tr th {\n",
              "        vertical-align: top;\n",
              "    }\n",
              "\n",
              "    .dataframe thead th {\n",
              "        text-align: right;\n",
              "    }\n",
              "</style>\n",
              "<table border=\"1\" class=\"dataframe\">\n",
              "  <thead>\n",
              "    <tr style=\"text-align: right;\">\n",
              "      <th></th>\n",
              "      <th>area</th>\n",
              "      <th>perimeter</th>\n",
              "      <th>compactness</th>\n",
              "      <th>kernel_length</th>\n",
              "      <th>kernel_width</th>\n",
              "      <th>assymetry_coff</th>\n",
              "      <th>kernel_grove_length</th>\n",
              "      <th>variety</th>\n",
              "    </tr>\n",
              "  </thead>\n",
              "  <tbody>\n",
              "    <tr>\n",
              "      <th>count</th>\n",
              "      <td>210.000000</td>\n",
              "      <td>210.000000</td>\n",
              "      <td>210.000000</td>\n",
              "      <td>210.000000</td>\n",
              "      <td>210.000000</td>\n",
              "      <td>210.000000</td>\n",
              "      <td>210.000000</td>\n",
              "      <td>210.000000</td>\n",
              "    </tr>\n",
              "    <tr>\n",
              "      <th>mean</th>\n",
              "      <td>14.847524</td>\n",
              "      <td>14.559286</td>\n",
              "      <td>0.870999</td>\n",
              "      <td>5.628533</td>\n",
              "      <td>3.258605</td>\n",
              "      <td>3.700201</td>\n",
              "      <td>5.408071</td>\n",
              "      <td>2.000000</td>\n",
              "    </tr>\n",
              "    <tr>\n",
              "      <th>std</th>\n",
              "      <td>2.909699</td>\n",
              "      <td>1.305959</td>\n",
              "      <td>0.023629</td>\n",
              "      <td>0.443063</td>\n",
              "      <td>0.377714</td>\n",
              "      <td>1.503557</td>\n",
              "      <td>0.491480</td>\n",
              "      <td>0.818448</td>\n",
              "    </tr>\n",
              "    <tr>\n",
              "      <th>min</th>\n",
              "      <td>10.590000</td>\n",
              "      <td>12.410000</td>\n",
              "      <td>0.808100</td>\n",
              "      <td>4.899000</td>\n",
              "      <td>2.630000</td>\n",
              "      <td>0.765100</td>\n",
              "      <td>4.519000</td>\n",
              "      <td>1.000000</td>\n",
              "    </tr>\n",
              "    <tr>\n",
              "      <th>25%</th>\n",
              "      <td>12.270000</td>\n",
              "      <td>13.450000</td>\n",
              "      <td>0.856900</td>\n",
              "      <td>5.262250</td>\n",
              "      <td>2.944000</td>\n",
              "      <td>2.561500</td>\n",
              "      <td>5.045000</td>\n",
              "      <td>1.000000</td>\n",
              "    </tr>\n",
              "    <tr>\n",
              "      <th>50%</th>\n",
              "      <td>14.355000</td>\n",
              "      <td>14.320000</td>\n",
              "      <td>0.873450</td>\n",
              "      <td>5.523500</td>\n",
              "      <td>3.237000</td>\n",
              "      <td>3.599000</td>\n",
              "      <td>5.223000</td>\n",
              "      <td>2.000000</td>\n",
              "    </tr>\n",
              "    <tr>\n",
              "      <th>75%</th>\n",
              "      <td>17.305000</td>\n",
              "      <td>15.715000</td>\n",
              "      <td>0.887775</td>\n",
              "      <td>5.979750</td>\n",
              "      <td>3.561750</td>\n",
              "      <td>4.768750</td>\n",
              "      <td>5.877000</td>\n",
              "      <td>3.000000</td>\n",
              "    </tr>\n",
              "    <tr>\n",
              "      <th>max</th>\n",
              "      <td>21.180000</td>\n",
              "      <td>17.250000</td>\n",
              "      <td>0.918300</td>\n",
              "      <td>6.675000</td>\n",
              "      <td>4.033000</td>\n",
              "      <td>8.456000</td>\n",
              "      <td>6.550000</td>\n",
              "      <td>3.000000</td>\n",
              "    </tr>\n",
              "  </tbody>\n",
              "</table>\n",
              "</div>"
            ],
            "text/plain": [
              "             area   perimeter  ...  kernel_grove_length     variety\n",
              "count  210.000000  210.000000  ...           210.000000  210.000000\n",
              "mean    14.847524   14.559286  ...             5.408071    2.000000\n",
              "std      2.909699    1.305959  ...             0.491480    0.818448\n",
              "min     10.590000   12.410000  ...             4.519000    1.000000\n",
              "25%     12.270000   13.450000  ...             5.045000    1.000000\n",
              "50%     14.355000   14.320000  ...             5.223000    2.000000\n",
              "75%     17.305000   15.715000  ...             5.877000    3.000000\n",
              "max     21.180000   17.250000  ...             6.550000    3.000000\n",
              "\n",
              "[8 rows x 8 columns]"
            ]
          },
          "metadata": {
            "tags": []
          },
          "execution_count": 34
        }
      ]
    },
    {
      "cell_type": "code",
      "metadata": {
        "colab": {
          "base_uri": "https://localhost:8080/"
        },
        "id": "uKsyGM0rTtfr",
        "outputId": "db11ab0b-eb26-48c3-b9b3-35e6ea412ba5"
      },
      "source": [
        "# Inspect the categorical variables\n",
        "df.select_dtypes('object').nunique()"
      ],
      "execution_count": 35,
      "outputs": [
        {
          "output_type": "execute_result",
          "data": {
            "text/plain": [
              "Series([], dtype: float64)"
            ]
          },
          "metadata": {
            "tags": []
          },
          "execution_count": 35
        }
      ]
    },
    {
      "cell_type": "code",
      "metadata": {
        "colab": {
          "base_uri": "https://localhost:8080/",
          "height": 1000
        },
        "id": "_k8gkys-q4Lo",
        "outputId": "dd1d005a-d175-4f75-e9fd-57e6151ae307"
      },
      "source": [
        "import seaborn as sns\n",
        "\n",
        "for a in [\"area\", \"perimeter\", \"compactness\",\"kernel_length\",\"kernel_width\",\"kernel_grove_length\"]:\n",
        "    ax = plt.subplots(figsize=(6, 3))\n",
        "    ax = sns.distplot(df[a])\n",
        "    title = \"Histogram of \" + a\n",
        "    ax.set_title(title, fontsize=12)\n",
        "    plt.show()"
      ],
      "execution_count": 36,
      "outputs": [
        {
          "output_type": "stream",
          "text": [
            "/usr/local/lib/python3.7/dist-packages/seaborn/distributions.py:2557: FutureWarning: `distplot` is a deprecated function and will be removed in a future version. Please adapt your code to use either `displot` (a figure-level function with similar flexibility) or `histplot` (an axes-level function for histograms).\n",
            "  warnings.warn(msg, FutureWarning)\n"
          ],
          "name": "stderr"
        },
        {
          "output_type": "display_data",
          "data": {
            "image/png": "[encoded data removed]",
            "text/plain": [
              "<Figure size 432x216 with 1 Axes>"
            ]
          },
          "metadata": {
            "tags": [],
            "needs_background": "light"
          }
        },
        {
          "output_type": "stream",
          "text": [
            "/usr/local/lib/python3.7/dist-packages/seaborn/distributions.py:2557: FutureWarning: `distplot` is a deprecated function and will be removed in a future version. Please adapt your code to use either `displot` (a figure-level function with similar flexibility) or `histplot` (an axes-level function for histograms).\n",
            "  warnings.warn(msg, FutureWarning)\n"
          ],
          "name": "stderr"
        },
        {
          "output_type": "display_data",
          "data": {
            "image/png": "[encoded data removed]",
            "text/plain": [
              "<Figure size 432x216 with 1 Axes>"
            ]
          },
          "metadata": {
            "tags": [],
            "needs_background": "light"
          }
        },
        {
          "output_type": "stream",
          "text": [
            "/usr/local/lib/python3.7/dist-packages/seaborn/distributions.py:2557: FutureWarning: `distplot` is a deprecated function and will be removed in a future version. Please adapt your code to use either `displot` (a figure-level function with similar flexibility) or `histplot` (an axes-level function for histograms).\n",
            "  warnings.warn(msg, FutureWarning)\n"
          ],
          "name": "stderr"
        },
        {
          "output_type": "display_data",
          "data": {
            "image/png": "[encoded data removed]",
            "text/plain": [
              "<Figure size 432x216 with 1 Axes>"
            ]
          },
          "metadata": {
            "tags": [],
            "needs_background": "light"
          }
        },
        {
          "output_type": "stream",
          "text": [
            "/usr/local/lib/python3.7/dist-packages/seaborn/distributions.py:2557: FutureWarning: `distplot` is a deprecated function and will be removed in a future version. Please adapt your code to use either `displot` (a figure-level function with similar flexibility) or `histplot` (an axes-level function for histograms).\n",
            "  warnings.warn(msg, FutureWarning)\n"
          ],
          "name": "stderr"
        },
        {
          "output_type": "display_data",
          "data": {
            "image/png": "[encoded data removed]",
            "text/plain": [
              "<Figure size 432x216 with 1 Axes>"
            ]
          },
          "metadata": {
            "tags": [],
            "needs_background": "light"
          }
        },
        {
          "output_type": "stream",
          "text": [
            "/usr/local/lib/python3.7/dist-packages/seaborn/distributions.py:2557: FutureWarning: `distplot` is a deprecated function and will be removed in a future version. Please adapt your code to use either `displot` (a figure-level function with similar flexibility) or `histplot` (an axes-level function for histograms).\n",
            "  warnings.warn(msg, FutureWarning)\n"
          ],
          "name": "stderr"
        },
        {
          "output_type": "display_data",
          "data": {
            "image/png": "[encoded data removed]",
            "text/plain": [
              "<Figure size 432x216 with 1 Axes>"
            ]
          },
          "metadata": {
            "tags": [],
            "needs_background": "light"
          }
        },
        {
          "output_type": "stream",
          "text": [
            "/usr/local/lib/python3.7/dist-packages/seaborn/distributions.py:2557: FutureWarning: `distplot` is a deprecated function and will be removed in a future version. Please adapt your code to use either `displot` (a figure-level function with similar flexibility) or `histplot` (an axes-level function for histograms).\n",
            "  warnings.warn(msg, FutureWarning)\n"
          ],
          "name": "stderr"
        },
        {
          "output_type": "display_data",
          "data": {
            "image/png": "[encoded data removed]",
            "text/plain": [
              "<Figure size 432x216 with 1 Axes>"
            ]
          },
          "metadata": {
            "tags": [],
            "needs_background": "light"
          }
        }
      ]
    },
    {
      "cell_type": "markdown",
      "metadata": {
        "id": "TwuMxodlrK91"
      },
      "source": [
        "From the plots above you can observe the distribution of area, spending score and annual income. Viewing the histograms can visually indicate characteristics of these features such as the mean or skew. The distribution of kernel length for example reveals that the typical annual income has around 5.0-5.5 USD with left skew."
      ]
    },
    {
      "cell_type": "markdown",
      "metadata": {
        "id": "5xGo76rvsCLU"
      },
      "source": [
        "### c. Feature engineering\n",
        "\n",
        "As we are going to use Kmeans clustering for this, we need to drop categorical features. KMeans work on eucledian distance and converting categorical columns into numeric ones would not work. In this dataset, we do not have any categorical features. In addition, we are also going to drop the variety, which is label. We will be using variety later to verify our model's accuracy."
      ]
    },
    {
      "cell_type": "code",
      "metadata": {
        "id": "QsUPv8j8u_Zl"
      },
      "source": [
        "X = df.iloc[:, range(6)]"
      ],
      "execution_count": 37,
      "outputs": []
    },
    {
      "cell_type": "code",
      "metadata": {
        "colab": {
          "base_uri": "https://localhost:8080/",
          "height": 203
        },
        "id": "GSn8HPtrPfIJ",
        "outputId": "57023ae8-eb35-4733-9335-781e8a4a770e"
      },
      "source": [
        "X.head()"
      ],
      "execution_count": 38,
      "outputs": [
        {
          "output_type": "execute_result",
          "data": {
            "text/html": [
              "<div>\n",
              "<style scoped>\n",
              "    .dataframe tbody tr th:only-of-type {\n",
              "        vertical-align: middle;\n",
              "    }\n",
              "\n",
              "    .dataframe tbody tr th {\n",
              "        vertical-align: top;\n",
              "    }\n",
              "\n",
              "    .dataframe thead th {\n",
              "        text-align: right;\n",
              "    }\n",
              "</style>\n",
              "<table border=\"1\" class=\"dataframe\">\n",
              "  <thead>\n",
              "    <tr style=\"text-align: right;\">\n",
              "      <th></th>\n",
              "      <th>area</th>\n",
              "      <th>perimeter</th>\n",
              "      <th>compactness</th>\n",
              "      <th>kernel_length</th>\n",
              "      <th>kernel_width</th>\n",
              "      <th>assymetry_coff</th>\n",
              "    </tr>\n",
              "  </thead>\n",
              "  <tbody>\n",
              "    <tr>\n",
              "      <th>0</th>\n",
              "      <td>15.26</td>\n",
              "      <td>14.84</td>\n",
              "      <td>0.8710</td>\n",
              "      <td>5.763</td>\n",
              "      <td>3.312</td>\n",
              "      <td>2.221</td>\n",
              "    </tr>\n",
              "    <tr>\n",
              "      <th>1</th>\n",
              "      <td>14.88</td>\n",
              "      <td>14.57</td>\n",
              "      <td>0.8811</td>\n",
              "      <td>5.554</td>\n",
              "      <td>3.333</td>\n",
              "      <td>1.018</td>\n",
              "    </tr>\n",
              "    <tr>\n",
              "      <th>2</th>\n",
              "      <td>14.29</td>\n",
              "      <td>14.09</td>\n",
              "      <td>0.9050</td>\n",
              "      <td>5.291</td>\n",
              "      <td>3.337</td>\n",
              "      <td>2.699</td>\n",
              "    </tr>\n",
              "    <tr>\n",
              "      <th>3</th>\n",
              "      <td>13.84</td>\n",
              "      <td>13.94</td>\n",
              "      <td>0.8955</td>\n",
              "      <td>5.324</td>\n",
              "      <td>3.379</td>\n",
              "      <td>2.259</td>\n",
              "    </tr>\n",
              "    <tr>\n",
              "      <th>4</th>\n",
              "      <td>16.14</td>\n",
              "      <td>14.99</td>\n",
              "      <td>0.9034</td>\n",
              "      <td>5.658</td>\n",
              "      <td>3.562</td>\n",
              "      <td>1.355</td>\n",
              "    </tr>\n",
              "  </tbody>\n",
              "</table>\n",
              "</div>"
            ],
            "text/plain": [
              "    area  perimeter  compactness  kernel_length  kernel_width  assymetry_coff\n",
              "0  15.26      14.84       0.8710          5.763         3.312           2.221\n",
              "1  14.88      14.57       0.8811          5.554         3.333           1.018\n",
              "2  14.29      14.09       0.9050          5.291         3.337           2.699\n",
              "3  13.84      13.94       0.8955          5.324         3.379           2.259\n",
              "4  16.14      14.99       0.9034          5.658         3.562           1.355"
            ]
          },
          "metadata": {
            "tags": []
          },
          "execution_count": 38
        }
      ]
    },
    {
      "cell_type": "markdown",
      "metadata": {
        "id": "qnNfcWj3ukqL"
      },
      "source": [
        "**Data Scaling**- We need to standardize the scaling of the numerical columns in order to use any distance based analytical methods so that we can compare the relative distances between different feature columns. We can use `minmaxscaler` to transform the numerical columns so that they also fall between 0 and 1."
      ]
    },
    {
      "cell_type": "code",
      "metadata": {
        "id": "5OAXprMmrWhX"
      },
      "source": [
        "from sklearn.preprocessing import MinMaxScaler\n",
        "\n",
        "scaler = MinMaxScaler()\n",
        "X_scaled = pd.DataFrame(scaler.fit_transform(X_scaled))\n",
        "X_scaled.columns = X.columns\n",
        "X_scaled.index = df.index"
      ],
      "execution_count": 58,
      "outputs": []
    },
    {
      "cell_type": "markdown",
      "metadata": {
        "id": "oLoZZynVsO1S"
      },
      "source": [
        "We can see that all of our numerical columns now have a min of 0 and a max of 1."
      ]
    },
    {
      "cell_type": "code",
      "metadata": {
        "colab": {
          "base_uri": "https://localhost:8080/",
          "height": 295
        },
        "id": "zaV7j3Tdrpzo",
        "outputId": "95fa2ba7-ce6a-4cd3-e713-5ff2a59c9e00"
      },
      "source": [
        "X_scaled.describe()"
      ],
      "execution_count": 59,
      "outputs": [
        {
          "output_type": "execute_result",
          "data": {
            "text/html": [
              "<div>\n",
              "<style scoped>\n",
              "    .dataframe tbody tr th:only-of-type {\n",
              "        vertical-align: middle;\n",
              "    }\n",
              "\n",
              "    .dataframe tbody tr th {\n",
              "        vertical-align: top;\n",
              "    }\n",
              "\n",
              "    .dataframe thead th {\n",
              "        text-align: right;\n",
              "    }\n",
              "</style>\n",
              "<table border=\"1\" class=\"dataframe\">\n",
              "  <thead>\n",
              "    <tr style=\"text-align: right;\">\n",
              "      <th></th>\n",
              "      <th>area</th>\n",
              "      <th>perimeter</th>\n",
              "      <th>compactness</th>\n",
              "      <th>kernel_length</th>\n",
              "      <th>kernel_width</th>\n",
              "      <th>assymetry_coff</th>\n",
              "    </tr>\n",
              "  </thead>\n",
              "  <tbody>\n",
              "    <tr>\n",
              "      <th>count</th>\n",
              "      <td>210.000000</td>\n",
              "      <td>210.000000</td>\n",
              "      <td>210.000000</td>\n",
              "      <td>210.000000</td>\n",
              "      <td>210.000000</td>\n",
              "      <td>210.000000</td>\n",
              "    </tr>\n",
              "    <tr>\n",
              "      <th>mean</th>\n",
              "      <td>0.402032</td>\n",
              "      <td>0.444067</td>\n",
              "      <td>0.570767</td>\n",
              "      <td>0.410773</td>\n",
              "      <td>0.448043</td>\n",
              "      <td>0.381633</td>\n",
              "    </tr>\n",
              "    <tr>\n",
              "      <th>std</th>\n",
              "      <td>0.274759</td>\n",
              "      <td>0.269826</td>\n",
              "      <td>0.214423</td>\n",
              "      <td>0.249473</td>\n",
              "      <td>0.269219</td>\n",
              "      <td>0.195498</td>\n",
              "    </tr>\n",
              "    <tr>\n",
              "      <th>min</th>\n",
              "      <td>0.000000</td>\n",
              "      <td>0.000000</td>\n",
              "      <td>0.000000</td>\n",
              "      <td>0.000000</td>\n",
              "      <td>0.000000</td>\n",
              "      <td>0.000000</td>\n",
              "    </tr>\n",
              "    <tr>\n",
              "      <th>25%</th>\n",
              "      <td>0.158640</td>\n",
              "      <td>0.214876</td>\n",
              "      <td>0.442831</td>\n",
              "      <td>0.204533</td>\n",
              "      <td>0.223806</td>\n",
              "      <td>0.233575</td>\n",
              "    </tr>\n",
              "    <tr>\n",
              "      <th>50%</th>\n",
              "      <td>0.355524</td>\n",
              "      <td>0.394628</td>\n",
              "      <td>0.593013</td>\n",
              "      <td>0.351633</td>\n",
              "      <td>0.432644</td>\n",
              "      <td>0.368474</td>\n",
              "    </tr>\n",
              "    <tr>\n",
              "      <th>75%</th>\n",
              "      <td>0.634089</td>\n",
              "      <td>0.682851</td>\n",
              "      <td>0.723004</td>\n",
              "      <td>0.608530</td>\n",
              "      <td>0.664113</td>\n",
              "      <td>0.520570</td>\n",
              "    </tr>\n",
              "    <tr>\n",
              "      <th>max</th>\n",
              "      <td>1.000000</td>\n",
              "      <td>1.000000</td>\n",
              "      <td>1.000000</td>\n",
              "      <td>1.000000</td>\n",
              "      <td>1.000000</td>\n",
              "      <td>1.000000</td>\n",
              "    </tr>\n",
              "  </tbody>\n",
              "</table>\n",
              "</div>"
            ],
            "text/plain": [
              "             area   perimeter  ...  kernel_width  assymetry_coff\n",
              "count  210.000000  210.000000  ...    210.000000      210.000000\n",
              "mean     0.402032    0.444067  ...      0.448043        0.381633\n",
              "std      0.274759    0.269826  ...      0.269219        0.195498\n",
              "min      0.000000    0.000000  ...      0.000000        0.000000\n",
              "25%      0.158640    0.214876  ...      0.223806        0.233575\n",
              "50%      0.355524    0.394628  ...      0.432644        0.368474\n",
              "75%      0.634089    0.682851  ...      0.664113        0.520570\n",
              "max      1.000000    1.000000  ...      1.000000        1.000000\n",
              "\n",
              "[8 rows x 6 columns]"
            ]
          },
          "metadata": {
            "tags": []
          },
          "execution_count": 59
        }
      ]
    },
    {
      "cell_type": "markdown",
      "metadata": {
        "id": "Efzi8bq2uFZL"
      },
      "source": [
        "## Step 3: Data modelling\n",
        "### a. Dimensionality reduction\n",
        "\n",
        "We will be using principal component analysis (PCA) to reduce the dimensionality of our data. This method decomposes the data matrix into features that are orthogonal with each other. The resultant orthogonal features are linear combinations of the original feature set. You can think of this method as taking many features and combining similar or redundant features together to form a new, smaller feature set."
      ]
    },
    {
      "cell_type": "code",
      "metadata": {
        "id": "KuSicgR21I7o"
      },
      "source": [
        "# Perform the necessary imports\n",
        "from sklearn.decomposition import PCA\n",
        "from sklearn.preprocessing import StandardScaler\n",
        "from sklearn.pipeline import make_pipeline\n",
        "import matplotlib.pyplot as plt\n",
        "\n",
        "# Create a PCA instance: pca\n",
        "pca = PCA()\n",
        "\n",
        "# Apply the fit_transform method of model to grains: pca_features\n",
        "pca_features = pca.fit_transform(X_scaled)\n"
      ],
      "execution_count": 60,
      "outputs": []
    },
    {
      "cell_type": "code",
      "metadata": {
        "colab": {
          "base_uri": "https://localhost:8080/",
          "height": 279
        },
        "id": "rC8CK2Y-vy1m",
        "outputId": "22d6414f-5cb8-44f7-b6d8-028b38a6f141"
      },
      "source": [
        "# Plot the explained variances\n",
        "features = range(pca.n_components_)\n",
        "plt.bar(features, pca.explained_variance_ratio_)\n",
        "plt.xlabel('PCA feature')\n",
        "plt.ylabel('variance')\n",
        "plt.xticks(features)\n",
        "plt.show()"
      ],
      "execution_count": 61,
      "outputs": [
        {
          "output_type": "display_data",
          "data": {
            "image/png": "[encoded data removed]",
            "text/plain": [
              "<Figure size 432x288 with 1 Axes>"
            ]
          },
          "metadata": {
            "tags": [],
            "needs_background": "light"
          }
        }
      ]
    },
    {
      "cell_type": "code",
      "metadata": {
        "colab": {
          "base_uri": "https://localhost:8080/"
        },
        "id": "RzmUUG7awf3x",
        "outputId": "8fb68b4a-cf37-4512-c081-660573d42b00"
      },
      "source": [
        "print(pca.explained_variance_ratio_) # the percentage of the variance"
      ],
      "execution_count": 62,
      "outputs": [
        {
          "output_type": "stream",
          "text": [
            "[7.97782915e-01 1.20063309e-01 7.75740747e-02 3.32925184e-03\n",
            " 1.06498082e-03 1.85469210e-04]\n"
          ],
          "name": "stdout"
        }
      ]
    },
    {
      "cell_type": "code",
      "metadata": {
        "colab": {
          "base_uri": "https://localhost:8080/",
          "height": 295
        },
        "id": "iUH4y66ewBrP",
        "outputId": "49b424f5-eb32-4299-90e4-00347fa4e0af"
      },
      "source": [
        "component_num = 0\n",
        "\n",
        "first_comp = pca_features[:,0]\n",
        "comps = pd.DataFrame(\n",
        "    list(zip(first_comp, X_scaled.columns)), columns=[\"weights\", \"features\"]\n",
        ")\n",
        "comps[\"abs_weights\"] = comps[\"weights\"].apply(lambda x: np.abs(x))\n",
        "ax = sns.barplot(\n",
        "    data=comps.sort_values(\"abs_weights\", ascending=False).head(10),\n",
        "    x=\"weights\",\n",
        "    y=\"features\",\n",
        "    palette=\"Blues_d\",\n",
        ")\n",
        "ax.set_title(\"PCA Component Makeup: #\" + str(component_num))\n",
        "plt.show()"
      ],
      "execution_count": 64,
      "outputs": [
        {
          "output_type": "display_data",
          "data": {
            "image/png": "[encoded data removed]",
            "text/plain": [
              "<Figure size 432x288 with 1 Axes>"
            ]
          },
          "metadata": {
            "tags": [],
            "needs_background": "light"
          }
        }
      ]
    },
    {
      "cell_type": "markdown",
      "metadata": {
        "id": "JobJ2c8LvnEI"
      },
      "source": [
        "We can now calculate the variance explained by the largest n components that we want to keep. For this example, let's take the top 5 components.\n",
        "\n",
        "We can see that the largest 2 components explain ~85% of the total variance in our dataset:"
      ]
    },
    {
      "cell_type": "code",
      "metadata": {
        "id": "amj2ZiqGykQu"
      },
      "source": [
        "# Create a PCA instance: pca\n",
        "pca = PCA(n_components=2)\n",
        "\n",
        "# Apply the fit_transform method of model to grains: pca_features\n",
        "pca_features = pca.fit_transform(X_scaled)"
      ],
      "execution_count": 69,
      "outputs": []
    },
    {
      "cell_type": "code",
      "metadata": {
        "id": "_jAYZJm2y5XJ"
      },
      "source": [
        "PCA_list = [\"comp_1\", \"comp_2\"]\n"
      ],
      "execution_count": 70,
      "outputs": []
    },
    {
      "cell_type": "markdown",
      "metadata": {
        "id": "-WbZPH136nFI"
      },
      "source": [
        "### C. Wheat variety segmentation using unsupervised clustering\n",
        "\n",
        "Now, we’ll use the `KMeans` algorithm to segment wheat varieties  by the 2 `PCA` attributes we have created. `KMeans` is a clustering algorithm that identifies clusters of similar counties based on their attributes. "
      ]
    },
    {
      "cell_type": "code",
      "metadata": {
        "id": "TG50YZuo6smA"
      },
      "source": [
        "train_data = pd.DataFrame(data=pca_features,\n",
        "             index=df.variety,             \n",
        "             columns=PCA_list)  # 1st row as the column names"
      ],
      "execution_count": 71,
      "outputs": []
    },
    {
      "cell_type": "code",
      "metadata": {
        "colab": {
          "base_uri": "https://localhost:8080/",
          "height": 234
        },
        "id": "ZQnOgqOp6FU2",
        "outputId": "e6b64b56-38d0-41e2-f163-1bc410f99d29"
      },
      "source": [
        "train_data.head()"
      ],
      "execution_count": 72,
      "outputs": [
        {
          "output_type": "execute_result",
          "data": {
            "text/html": [
              "<div>\n",
              "<style scoped>\n",
              "    .dataframe tbody tr th:only-of-type {\n",
              "        vertical-align: middle;\n",
              "    }\n",
              "\n",
              "    .dataframe tbody tr th {\n",
              "        vertical-align: top;\n",
              "    }\n",
              "\n",
              "    .dataframe thead th {\n",
              "        text-align: right;\n",
              "    }\n",
              "</style>\n",
              "<table border=\"1\" class=\"dataframe\">\n",
              "  <thead>\n",
              "    <tr style=\"text-align: right;\">\n",
              "      <th></th>\n",
              "      <th>comp_1</th>\n",
              "      <th>comp_2</th>\n",
              "    </tr>\n",
              "    <tr>\n",
              "      <th>variety</th>\n",
              "      <th></th>\n",
              "      <th></th>\n",
              "    </tr>\n",
              "  </thead>\n",
              "  <tbody>\n",
              "    <tr>\n",
              "      <th>1</th>\n",
              "      <td>0.118836</td>\n",
              "      <td>-0.093825</td>\n",
              "    </tr>\n",
              "    <tr>\n",
              "      <th>1</th>\n",
              "      <td>0.069688</td>\n",
              "      <td>-0.310772</td>\n",
              "    </tr>\n",
              "    <tr>\n",
              "      <th>1</th>\n",
              "      <td>-0.034992</td>\n",
              "      <td>-0.370447</td>\n",
              "    </tr>\n",
              "    <tr>\n",
              "      <th>1</th>\n",
              "      <td>-0.065821</td>\n",
              "      <td>-0.363652</td>\n",
              "    </tr>\n",
              "    <tr>\n",
              "      <th>1</th>\n",
              "      <td>0.325949</td>\n",
              "      <td>-0.376958</td>\n",
              "    </tr>\n",
              "  </tbody>\n",
              "</table>\n",
              "</div>"
            ],
            "text/plain": [
              "           comp_1    comp_2\n",
              "variety                    \n",
              "1        0.118836 -0.093825\n",
              "1        0.069688 -0.310772\n",
              "1       -0.034992 -0.370447\n",
              "1       -0.065821 -0.363652\n",
              "1        0.325949 -0.376958"
            ]
          },
          "metadata": {
            "tags": []
          },
          "execution_count": 72
        }
      ]
    },
    {
      "cell_type": "markdown",
      "metadata": {
        "id": "nWC2EWp2Lx5G"
      },
      "source": [
        "First, we call and define the hyperparameters of our KMeans model as we have done with our PCA model. The KMeans algorithm allows the user to specify how many clusters to identify. We will identify ideal number of clusters using elbow-inertia approach.\n",
        "\n"
      ]
    },
    {
      "cell_type": "code",
      "metadata": {
        "id": "zWs6ciOoL1b3",
        "colab": {
          "base_uri": "https://localhost:8080/",
          "height": 295
        },
        "outputId": "1a77c788-7a3a-4f53-cc6f-b0a0f412b55e"
      },
      "source": [
        "from sklearn.cluster import KMeans\n",
        "wcss = []\n",
        "for i in range(1, 11):\n",
        "    kmeans = KMeans(n_clusters = i, init = 'k-means++', random_state = 42)\n",
        "    kmeans.fit(pca_features)\n",
        "    wcss.append(kmeans.inertia_)\n",
        "plt.plot(range(1, 11), wcss)\n",
        "plt.title('The Elbow Method')\n",
        "plt.xlabel('Number of clusters')\n",
        "plt.ylabel('WCSS')\n",
        "plt.show()"
      ],
      "execution_count": 76,
      "outputs": [
        {
          "output_type": "display_data",
          "data": {
            "image/png": "[encoded data removed]",
            "text/plain": [
              "<Figure size 432x288 with 1 Axes>"
            ]
          },
          "metadata": {
            "tags": [],
            "needs_background": "light"
          }
        }
      ]
    },
    {
      "cell_type": "markdown",
      "metadata": {
        "id": "VgT0mANLL4Nz"
      },
      "source": [
        "#### Training the K-Means model on the dataset"
      ]
    },
    {
      "cell_type": "code",
      "metadata": {
        "id": "cjEfU6ZSMAPl"
      },
      "source": [
        "kmeans = KMeans(n_clusters = 3, init = 'k-means++', random_state = 42)\n",
        "y_kmeans = kmeans.fit_predict(pca_features)"
      ],
      "execution_count": 78,
      "outputs": []
    },
    {
      "cell_type": "markdown",
      "metadata": {
        "id": "e7YrS1JAMFnm"
      },
      "source": [
        "#### Visualising the clusters"
      ]
    },
    {
      "cell_type": "code",
      "metadata": {
        "colab": {
          "base_uri": "https://localhost:8080/",
          "height": 265
        },
        "id": "fCJ19ogrdqIo",
        "outputId": "7a8b220c-1e3f-4c63-9710-73e6441f6943"
      },
      "source": [
        "# Import pyplot\n",
        "import matplotlib.pyplot as plt\n",
        "\n",
        "# Assign the columns of new_points: xs and ys\n",
        "xs = pca_features[:,0]\n",
        "ys = pca_features[:,1]\n",
        "\n",
        "# Make a scatter plot of xs and ys, using labels to define the colors\n",
        "plt.scatter(xs,ys,alpha=0.5)\n",
        "\n",
        "# Assign the cluster centers: centroids\n",
        "centroids = kmeans.cluster_centers_\n",
        "\n",
        "# Assign the columns of centroids: centroids_x, centroids_y\n",
        "centroids_x = centroids[:,0]\n",
        "centroids_y = centroids[:,1]\n",
        "\n",
        "# Make a scatter plot of centroids_x and centroids_y\n",
        "plt.scatter(centroids_x,centroids_y,marker='D',s=50)\n",
        "\n",
        "plt.show()\n"
      ],
      "execution_count": 79,
      "outputs": [
        {
          "output_type": "display_data",
          "data": {
            "image/png": "[encoded data removed]",
            "text/plain": [
              "<Figure size 432x288 with 1 Axes>"
            ]
          },
          "metadata": {
            "tags": [],
            "needs_background": "light"
          }
        }
      ]
    },
    {
      "cell_type": "code",
      "metadata": {
        "colab": {
          "base_uri": "https://localhost:8080/",
          "height": 268
        },
        "id": "1WvHOFUkQrim",
        "outputId": "10bb0b0e-c287-40dd-88a9-3df6610624f2"
      },
      "source": [
        "# Use T Stochastic Neighbouring Embedded approach to plot the features in lower dimensions\n",
        "# Import TSNE\n",
        "from sklearn.manifold import TSNE \n",
        "\n",
        "# Create a TSNE instance: model\n",
        "model = TSNE(learning_rate=100)\n",
        "\n",
        "# Apply fit_transform to samples: tsne_features\n",
        "tsne_features = model.fit_transform(X_scaled)\n",
        "\n",
        "# Select the 0th feature: xs\n",
        "xs = tsne_features[:,0]\n",
        "\n",
        "# Select the 1st feature: ys\n",
        "ys = tsne_features[:,1]\n",
        "\n",
        "# Scatter plot, coloring by variety_numbers\n",
        "plt.close()\n",
        "plt.scatter(xs,ys)\n",
        "plt.show()"
      ],
      "execution_count": 82,
      "outputs": [
        {
          "output_type": "display_data",
          "data": {
            "image/png": "[encoded data removed]",
            "text/plain": [
              "<Figure size 432x288 with 1 Axes>"
            ]
          },
          "metadata": {
            "tags": [],
            "needs_background": "light"
          }
        }
      ]
    },
    {
      "cell_type": "code",
      "metadata": {
        "id": "GzA3qRC87sLu"
      },
      "source": [
        "# Create a result DataFrame with labels and customer as columns: df\n",
        "ct = pd.DataFrame({'wheat_type': train_data.index, 'cluster_labels': y_kmeans})\n",
        "df['labels'] = y_kmeans\n",
        "\n",
        "\n"
      ],
      "execution_count": 83,
      "outputs": []
    },
    {
      "cell_type": "markdown",
      "metadata": {
        "id": "ijG-Msmn9RdI"
      },
      "source": [
        "We can see the breakdown of cluster counts and the distribution of clusters."
      ]
    },
    {
      "cell_type": "code",
      "metadata": {
        "id": "YEbxM7zsWCO5"
      },
      "source": [
        "# Create crosstab: ct\n",
        "ct = pd.crosstab(df['variety'],df['labels'])"
      ],
      "execution_count": 87,
      "outputs": []
    },
    {
      "cell_type": "code",
      "metadata": {
        "colab": {
          "base_uri": "https://localhost:8080/"
        },
        "id": "vXJc7_aOWiF5",
        "outputId": "f4dffa09-f237-45de-b6bf-c31b9d08c730"
      },
      "source": [
        "# Display ct\n",
        "print(ct)"
      ],
      "execution_count": 88,
      "outputs": [
        {
          "output_type": "stream",
          "text": [
            "labels    0   1   2\n",
            "variety            \n",
            "1        58   2  10\n",
            "2        10  60   0\n",
            "3         3   0  67\n"
          ],
          "name": "stdout"
        }
      ]
    },
    {
      "cell_type": "code",
      "metadata": {
        "colab": {
          "base_uri": "https://localhost:8080/",
          "height": 404
        },
        "id": "HxFOZR4x9cC-",
        "outputId": "753c7ebb-65c0-458a-992b-cf3de6edf434"
      },
      "source": [
        "ax = plt.subplots(figsize=(10, 5))\n",
        "ax = sns.distplot(df['labels'], kde=False)\n",
        "title = \"Histogram of Cluster Counts\"\n",
        "ax.set_title(title, fontsize=12)\n",
        "plt.show()"
      ],
      "execution_count": 92,
      "outputs": [
        {
          "output_type": "stream",
          "text": [
            "/usr/local/lib/python3.7/dist-packages/seaborn/distributions.py:2557: FutureWarning: `distplot` is a deprecated function and will be removed in a future version. Please adapt your code to use either `displot` (a figure-level function with similar flexibility) or `histplot` (an axes-level function for histograms).\n",
            "  warnings.warn(msg, FutureWarning)\n"
          ],
          "name": "stderr"
        },
        {
          "output_type": "display_data",
          "data": {
            "image/png": "[encoded data removed]",
            "text/plain": [
              "<Figure size 720x360 with 1 Axes>"
            ]
          },
          "metadata": {
            "tags": [],
            "needs_background": "light"
          }
        }
      ]
    },
    {
      "cell_type": "markdown",
      "metadata": {
        "id": "TZUJUHCo919Z"
      },
      "source": [
        "## Step 4: Drawing conclusions from our modelling\n",
        "\n",
        "Explaining the result of the modelling is an important step in making use of our analysis. \n",
        "By combining `PCA` and `KMeans`, and the information contained in the model attributes within the trained model, we can form concrete conclusions based on the data."
      ]
    },
    {
      "cell_type": "markdown",
      "metadata": {
        "id": "xRnVdlkl-OMx"
      },
      "source": [
        "We can plot a heatmap of the centroids and their location in the transformed feature space. This gives us insight into what characteristics define each cluster. Often with unsupervised learning, results are hard to interpret. This is one way to make use of the results of PCA plus clustering techniques together. Since we were able to examine the makeup of each PCA component, we can understand what each centroid represents in terms of the `PCA` components that we interpreted previously.\n",
        "\n",
        "For example, we can see that cluster 1 has the highest value in the \"Construction & Commuters\" attribute while it has the lowest value in the \"Self Employment/Public Workers\" attribute compared with other clusters. Similarly, cluster 4 has high values in \"Construction & Commuters,\" \"High Income/Professional & Office Workers,\" and \"Self Employment/Public Workers.\""
      ]
    },
    {
      "cell_type": "code",
      "metadata": {
        "colab": {
          "base_uri": "https://localhost:8080/",
          "height": 409
        },
        "id": "e-LqQEgm-DMd",
        "outputId": "da619a90-82d6-4110-c3e9-eeded79396db"
      },
      "source": [
        "cluster_centroids = kmeans.cluster_centers_\n",
        "plt.figure(figsize=(16, 6))\n",
        "ax = sns.heatmap(cluster_centroids.T, cmap=\"YlGnBu\")\n",
        "ax.set_xlabel(\"Cluster\")\n",
        "plt.yticks(fontsize=16)\n",
        "plt.xticks(fontsize=16)\n",
        "ax.set_title(\"Attribute Value by Centroid\")\n",
        "plt.show()"
      ],
      "execution_count": 93,
      "outputs": [
        {
          "output_type": "display_data",
          "data": {
            "image/png": "[encoded data removed]",
            "text/plain": [
              "<Figure size 1152x432 with 2 Axes>"
            ]
          },
          "metadata": {
            "tags": [],
            "needs_background": "light"
          }
        }
      ]
    },
    {
      "cell_type": "markdown",
      "metadata": {
        "id": "5gzlmceP_mPF"
      },
      "source": [
        "Now, we can examine one of the clusters in more detail, like cluster 1 for example. A cursory glance at the location of the centroid tells us that it has the highest value for the \"Construction & Commuters\" attribute. We can now see which counties fit that description."
      ]
    }
  ]
}